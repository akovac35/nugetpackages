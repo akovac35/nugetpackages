{
 "cells": [
  {
   "cell_type": "code",
   "execution_count": null,
   "metadata": {
    "dotnet_interactive": {
     "language": "csharp"
    },
    "polyglot_notebook": {
     "kernelName": "csharp"
    },
    "vscode": {
     "languageId": "csharp"
    }
   },
   "outputs": [],
   "source": [
    "using System;\n",
    "using System.Collections.Concurrent;\n",
    "using System.Collections.Generic;\n",
    "using System.Linq;\n",
    "using System.Threading;\n",
    "\n",
    "public class LimitedConcurrentQueue<T>\n",
    "{\n",
    "    private readonly ConcurrentQueue<T> _queue = new ConcurrentQueue<T>();\n",
    "    private readonly object _lock = new object();\n",
    "    private readonly Queue<DateTime> _timeStamps = new Queue<DateTime>();\n",
    "\n",
    "    private const int MaxItemsPerMinute = 4;\n",
    "    private const int MaxItemsPerDay = 500;\n",
    "    private const int Minute = 60;\n",
    "    private const int Day = 24 * 60 * 60;\n",
    "\n",
    "    public bool TryEnqueue(T item)\n",
    "    {\n",
    "        lock (_lock)\n",
    "        {\n",
    "            CleanUpOldTimestamps();\n",
    "\n",
    "            if (_timeStamps.Count >= MaxItemsPerDay || \n",
    "                _timeStamps.Count(t => (DateTime.Now - t).TotalSeconds < Minute) >= MaxItemsPerMinute)\n",
    "            {\n",
    "                return false;\n",
    "            }\n",
    "\n",
    "            _queue.Enqueue(item);\n",
    "            _timeStamps.Enqueue(DateTime.Now);\n",
    "            return true;\n",
    "        }\n",
    "    }\n",
    "\n",
    "    public bool TryDequeue(out T result)\n",
    "    {\n",
    "        return _queue.TryDequeue(out result);\n",
    "    }\n",
    "\n",
    "    private void CleanUpOldTimestamps()\n",
    "    {\n",
    "        while (_timeStamps.Count > 0 && (DateTime.Now - _timeStamps.Peek()).TotalSeconds > Day)\n",
    "        {\n",
    "            _timeStamps.Dequeue();\n",
    "        }\n",
    "    }\n",
    "}\n"
   ]
  },
  {
   "cell_type": "code",
   "execution_count": null,
   "metadata": {
    "dotnet_interactive": {
     "language": "csharp"
    },
    "polyglot_notebook": {
     "kernelName": "csharp"
    }
   },
   "outputs": [],
   "source": [
    "using System;\n",
    "using System.Net.Http;\n",
    "using System.Net.Http.Headers;\n",
    "using System.Threading.Tasks;\n",
    "using Newtonsoft.Json.Linq;\n",
    "\n",
    "public class VirusTotalAPI\n",
    "{\n",
    "    private readonly string _apiKey;\n",
    "    private readonly HttpClient _httpClient;\n",
    "\n",
    "    public VirusTotalAPI(string apiKey)\n",
    "    {\n",
    "        _apiKey = apiKey;\n",
    "        _httpClient = new HttpClient();\n",
    "    }\n",
    "\n",
    "    public async Task<string> ScanFileAsync(string filePath)\n",
    "    {\n",
    "        var request = new HttpRequestMessage(HttpMethod.Post, \"https://www.virustotal.com/api/v3/files\");\n",
    "        request.Headers.Add(\"x-apikey\", _apiKey);\n",
    "\n",
    "        var content = new MultipartFormDataContent();\n",
    "        var fileContent = new ByteArrayContent(System.IO.File.ReadAllBytes(filePath));\n",
    "        fileContent.Headers.ContentType = MediaTypeHeaderValue.Parse(\"application/octet-stream\");\n",
    "        content.Add(fileContent, \"file\", filePath);\n",
    "        request.Content = content;\n",
    "\n",
    "\n",
    "        var response = await _httpClient.SendAsync(request);\n",
    "        response.EnsureSuccessStatusCode();\n",
    "        var responseBody = await response.Content.ReadAsStringAsync();\n",
    "\n",
    "        return responseBody;\n",
    "    }\n",
    "    \n",
    "    public async Task<string> GetFileInfoAsync(string fileId)\n",
    "{\n",
    "    var request = new HttpRequestMessage(HttpMethod.Get, $\"https://www.virustotal.com/api/v3/files/{fileId}\");\n",
    "    request.Headers.Add(\"x-apikey\", _apiKey);\n",
    "\n",
    "    var response = await _httpClient.SendAsync(request);\n",
    "    response.EnsureSuccessStatusCode();\n",
    "    var responseBody = await response.Content.ReadAsStringAsync();\n",
    "\n",
    "    return responseBody;\n",
    "}\n",
    "\n",
    "}\n"
   ]
  }
 ],
 "metadata": {
  "kernelspec": {
   "display_name": ".NET (C#)",
   "language": "C#",
   "name": ".net-csharp"
  },
  "language_info": {
   "name": "polyglot-notebook"
  },
  "polyglot_notebook": {
   "kernelInfo": {
    "defaultKernelName": "csharp",
    "items": [
     {
      "aliases": [],
      "languageName": "csharp",
      "name": "csharp"
     }
    ]
   }
  }
 },
 "nbformat": 4,
 "nbformat_minor": 2
}
